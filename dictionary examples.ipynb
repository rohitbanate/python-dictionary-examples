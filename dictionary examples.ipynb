{
 "cells": [
  {
   "cell_type": "code",
   "execution_count": 1,
   "id": "21ede891",
   "metadata": {},
   "outputs": [],
   "source": [
    "d = {'name':\"rohit\",\"roll_no\":69, \"age\":23}\n",
    "\n"
   ]
  },
  {
   "cell_type": "code",
   "execution_count": 34,
   "id": "a01e5dd0",
   "metadata": {},
   "outputs": [],
   "source": [
    "testing_dict = {'jan': 1, 'feb': 2, 'mar': 3, 'apr': 4, 'may': 5, 'jun': 6, 'jul': 7, 'aug': 8, 'sep': 9, 'oct': 10, 'nov': 11, 'dec': 12}\n"
   ]
  },
  {
   "cell_type": "code",
   "execution_count": 3,
   "id": "1c58a155",
   "metadata": {},
   "outputs": [
    {
     "data": {
      "text/plain": [
       "23"
      ]
     },
     "execution_count": 3,
     "metadata": {},
     "output_type": "execute_result"
    }
   ],
   "source": [
    "# get() returns the value of the specified key\n",
    "d.get(\"age\")"
   ]
  },
  {
   "cell_type": "code",
   "execution_count": 8,
   "id": "991c46ac",
   "metadata": {},
   "outputs": [
    {
     "data": {
      "text/plain": [
       "dict_items([('name', 'rohit'), ('roll_no', 69), ('age', 23)])"
      ]
     },
     "execution_count": 8,
     "metadata": {},
     "output_type": "execute_result"
    }
   ],
   "source": [
    " # items() RETURNS A LIST CONTAINING A TUPLE FOR EACH KEY VALUE PAIR\n",
    "    \n",
    "item = d.items()\n",
    "item"
   ]
  },
  {
   "cell_type": "code",
   "execution_count": 9,
   "id": "3a074f35",
   "metadata": {},
   "outputs": [
    {
     "data": {
      "text/plain": [
       "dict_keys(['name', 'roll_no', 'age'])"
      ]
     },
     "execution_count": 9,
     "metadata": {},
     "output_type": "execute_result"
    }
   ],
   "source": [
    "# keys() RETURNS THE LIST CONTAINING DICTIONARY'S KEYS\n",
    "d.keys()"
   ]
  },
  {
   "cell_type": "code",
   "execution_count": 11,
   "id": "35211c4b",
   "metadata": {},
   "outputs": [
    {
     "data": {
      "text/plain": [
       "dict_values(['rohit', 69, 23])"
      ]
     },
     "execution_count": 11,
     "metadata": {},
     "output_type": "execute_result"
    }
   ],
   "source": [
    "d.values()"
   ]
  },
  {
   "cell_type": "code",
   "execution_count": 12,
   "id": "4d46e060",
   "metadata": {},
   "outputs": [
    {
     "name": "stdout",
     "output_type": "stream",
     "text": [
      "{'name': 'rohit', 'roll_no': 69}\n"
     ]
    }
   ],
   "source": [
    "# pop () removes element from with the specified key \n",
    "\n",
    "d.pop(\"age\")\n",
    "print(d)"
   ]
  },
  {
   "cell_type": "code",
   "execution_count": 17,
   "id": "68449a10",
   "metadata": {},
   "outputs": [
    {
     "data": {
      "text/plain": [
       "{'name': 'rohit', 'roll_no': 69, 'age': 23}"
      ]
     },
     "execution_count": 17,
     "metadata": {},
     "output_type": "execute_result"
    }
   ],
   "source": [
    "c = {'name':\"rohit\",\"roll_no\":69, \"age\":23}\n",
    "c"
   ]
  },
  {
   "cell_type": "code",
   "execution_count": 18,
   "id": "e8c645c8",
   "metadata": {},
   "outputs": [
    {
     "name": "stdout",
     "output_type": "stream",
     "text": [
      "before popitem:  {'name': 'rohit', 'roll_no': 69, 'age': 23}\n",
      "after popitem:  {'name': 'rohit', 'roll_no': 69}\n"
     ]
    }
   ],
   "source": [
    "# popitem() remove the last inserted key value pair \n",
    "print(\"before popitem: \" ,c)\n",
    "c.popitem()\n",
    "print(\"after popitem: \",c)"
   ]
  },
  {
   "cell_type": "code",
   "execution_count": 4,
   "id": "2bd1d79a",
   "metadata": {},
   "outputs": [
    {
     "name": "stdout",
     "output_type": "stream",
     "text": [
      "{'name': 'rohit', 'roll_no': 69, 'age': 23}\n",
      "{'name': 'rohit', 'roll_no': 69, 'age': 23, 'city': 'Udgir'}\n"
     ]
    }
   ],
   "source": [
    "# setdefault() return the VALUE  of specified key\n",
    "c = {'name':\"rohit\",\"roll_no\":69, \"age\":23}\n",
    "\n",
    "print(c)\n",
    "\n",
    "city = c.setdefault('city', \"Udgir\")\n",
    "print(c)\n"
   ]
  },
  {
   "cell_type": "code",
   "execution_count": 41,
   "id": "f0f278e6",
   "metadata": {},
   "outputs": [
    {
     "name": "stdout",
     "output_type": "stream",
     "text": [
      "{'name': 'rohit', 'roll_no': 69, 'age': 23}\n",
      "{'name': 'rohit', 'roll_no': 21, 'age': 23, 'city': 'udgir'}\n"
     ]
    }
   ],
   "source": [
    "# update() update the dctionary with specified key value pair\n",
    "c = {'name':\"rohit\",\"roll_no\":69, \"age\":23}\n",
    "print(c)\n",
    "c.update({'city': 'udgir', 'roll_no': 21})\n",
    "\n",
    "# it will use to update existing record as well as insert new record \n",
    "\n",
    "print(c)"
   ]
  },
  {
   "cell_type": "code",
   "execution_count": 48,
   "id": "ef85fec6",
   "metadata": {},
   "outputs": [
    {
     "data": {
      "text/plain": [
       "{'name': 0, 'class': 0, 'roll_no': 0, 'age': 0, 'city': 0}"
      ]
     },
     "execution_count": 48,
     "metadata": {},
     "output_type": "execute_result"
    }
   ],
   "source": [
    "# fromkeys() returns a dictionary with the specified keys and value\n",
    "\n",
    "list1 = (\"name\", \"class\",\"roll_no\",'age', 'city')\n",
    "list2 = 0\n",
    "\n",
    "dict1 = dict.fromkeys(list1, list2)\n",
    "dict1"
   ]
  },
  {
   "cell_type": "code",
   "execution_count": 57,
   "id": "df1fe463",
   "metadata": {},
   "outputs": [
    {
     "name": "stdout",
     "output_type": "stream",
     "text": [
      "{'name': 'aarti', 'class': 'second_year', 'roll_no': 69, 'age': 23, 'city': 'hydrabad'}\n"
     ]
    }
   ],
   "source": [
    "list1 = [\"name\", \"class\",\"roll_no\",'age', 'city']\n",
    "list2 = [\"aarti\", \"second_year\", 69, 23, \"hydrabad\"]\n",
    "\n",
    "dict2 = dict(zip(list1, list2))\n",
    "\n",
    "print(dict2)"
   ]
  },
  {
   "cell_type": "markdown",
   "id": "1a415075",
   "metadata": {},
   "source": [
    "### Python – Extract Unique values dictionary values\n"
   ]
  },
  {
   "cell_type": "code",
   "execution_count": 63,
   "id": "1ade5d99",
   "metadata": {},
   "outputs": [
    {
     "name": "stdout",
     "output_type": "stream",
     "text": [
      "original dict is:  {'gfg': [5, 6, 7, 8], 'is': [10, 11, 7, 5], 'best': [6, 12, 10, 8], 'for': [1, 2, 5]}\n",
      "unique values in the dictionary:  [1, 2, 5, 6, 7, 8, 10, 11, 12]\n"
     ]
    }
   ],
   "source": [
    "test_dict = {'gfg': [5, 6, 7, 8],\n",
    "             'is': [10, 11, 7, 5],\n",
    "             'best': [6, 12, 10, 8],\n",
    "             'for': [1, 2, 5]}\n",
    "\n",
    "print(\"original dict is: \",test_dict)\n",
    "\n",
    "result = list(sorted({ele for val in test_dict.values() for ele in val }))\n",
    "\n",
    "print(\"unique values in the dictionary: \",result)"
   ]
  },
  {
   "cell_type": "code",
   "execution_count": 20,
   "id": "ea954103",
   "metadata": {},
   "outputs": [
    {
     "name": "stdout",
     "output_type": "stream",
     "text": [
      "original list is : {'gfg': [5, 6, 7, 8], 'is': [10, 11, 7, 5], 'best': [6, 12, 10, 8], 'for': [1, 2, 5]}\n",
      " list after merging all dict values in the list: [[5, 6, 7, 8], [10, 11, 7, 5], [6, 12, 10, 8], [1, 2, 5]]\n",
      " sorted values are : [1, 2, 5, 5, 5, 6, 6, 7, 7, 8, 8, 10, 10, 11, 12]\n",
      " the final result of unique values are : [1, 2, 5, 6, 7, 8, 10, 11, 12]\n"
     ]
    }
   ],
   "source": [
    "test_dict = {'gfg': [5, 6, 7, 8],\n",
    "             'is': [10, 11, 7, 5],\n",
    "             'best': [6, 12, 10, 8],\n",
    "             'for': [1, 2, 5]}\n",
    "\n",
    "print(\"original list is :\", test_dict)\n",
    "\n",
    "\n",
    "x = list(test_dict.values())\n",
    "y = []\n",
    "result = []\n",
    "print(\" list after merging all dict values in the list:\",x)\n",
    "\n",
    "for i in x:\n",
    "    y.extend(i)\n",
    "    \n",
    "    \n",
    "y = sorted(y)\n",
    "\n",
    "print(\" sorted values are :\",y)\n",
    "\n",
    "for i in y:\n",
    "    if i not in result:\n",
    "        result.append(i)\n",
    "        \n",
    "print(\" the final result of unique values are :\",result)\n",
    "\n"
   ]
  },
  {
   "cell_type": "code",
   "execution_count": 22,
   "id": "c9097df5",
   "metadata": {},
   "outputs": [
    {
     "name": "stdout",
     "output_type": "stream",
     "text": [
      "original dictionary is: {'gfg': [5, 6, 7, 8], 'is': [10, 11, 7, 5], 'best': [6, 12, 10, 8], 'for': [1, 2, 5]}\n",
      "result after combining dictionary values into a single list [5, 6, 7, 8, 10, 11, 7, 5, 6, 12, 10, 8, 1, 2, 5]\n",
      "end result after sorting the data [1, 2, 5, 5, 5, 6, 6, 7, 7, 8, 8, 10, 10, 11, 12]\n"
     ]
    }
   ],
   "source": [
    "#using operator \n",
    "\n",
    "import operator as op \n",
    "\n",
    "test_dict = {'gfg' : [5, 6, 7, 8],\n",
    "            'is' : [10, 11, 7, 5],\n",
    "            'best' : [6, 12, 10, 8],\n",
    "            'for' : [1, 2, 5]}\n",
    "\n",
    "\n",
    "x = list(test_dict.values())\n",
    "print(\"original dictionary is:\", test_dict)\n",
    "\n",
    "\n",
    "combined_list = []\n",
    "result = []\n",
    "for i in x:\n",
    "    combined_list.extend(i)\n",
    "    \n",
    "print(\"result after combining dictionary values into a single list\",combined_list)\n",
    "\n",
    "for j in combined_list:\n",
    "    if op.countOf(result, i)==0:\n",
    "        result.append(j)\n",
    "        \n",
    "result = sorted(result)\n",
    "print(\"end result after sorting the data\",result) "
   ]
  },
  {
   "cell_type": "markdown",
   "id": "7f20273a",
   "metadata": {},
   "source": [
    "### Python program to find the sum of all items in a dictionary"
   ]
  },
  {
   "cell_type": "markdown",
   "id": "b17a086a",
   "metadata": {},
   "source": [
    "Input : {‘a’: 100, ‘b’:200, ‘c’:300}\n",
    "Output : 600\n",
    "\n",
    "Input : {‘x’: 25, ‘y’:18, ‘z’:45}\n",
    "Output : 88\n",
    "\n"
   ]
  },
  {
   "cell_type": "code",
   "execution_count": 89,
   "id": "1e80bb23",
   "metadata": {},
   "outputs": [
    {
     "name": "stdout",
     "output_type": "stream",
     "text": [
      "{'a': 100, 'b': 200, 'c': 300}\n",
      "numbers to add on the list are: [100, 200, 300]\n"
     ]
    },
    {
     "data": {
      "text/plain": [
       "600"
      ]
     },
     "execution_count": 89,
     "metadata": {},
     "output_type": "execute_result"
    }
   ],
   "source": [
    "my_dict = {'a': 100, 'b':200, 'c':300}\n",
    "\n",
    "print(my_dict)\n",
    "\n",
    "\n",
    "list1 = list(my_dict.values())\n",
    "\n",
    "print(\"numbers to add on the list are:\", list1)\n",
    "\n",
    "addition = sum(list1)\n",
    "\n",
    "addition"
   ]
  },
  {
   "cell_type": "code",
   "execution_count": 91,
   "id": "39dfeeeb",
   "metadata": {},
   "outputs": [
    {
     "name": "stdout",
     "output_type": "stream",
     "text": [
      "600\n"
     ]
    }
   ],
   "source": [
    "#with def function \n",
    "\n",
    "def dict_addition(dictionary):\n",
    "    \n",
    "    \n",
    "    list1 =list(dictionary.values())\n",
    "    \n",
    "    addition = sum(list1)\n",
    "    \n",
    "    return addition\n",
    "    \n",
    "my_dict = {'a': 100, 'b':200, 'c':300}\n",
    "\n",
    "print(dict_addition(my_dict))\n"
   ]
  },
  {
   "cell_type": "code",
   "execution_count": 93,
   "id": "5d400967",
   "metadata": {},
   "outputs": [
    {
     "name": "stdout",
     "output_type": "stream",
     "text": [
      "600\n"
     ]
    }
   ],
   "source": [
    "#with def and sum function\n",
    "def returnsum(dictionary):\n",
    "    \n",
    "    sum = 0\n",
    "    \n",
    "    for i in dictionary.values():\n",
    "        \n",
    "        sum = sum +i\n",
    "        \n",
    "    return sum \n",
    "\n",
    "my_dict = {'a': 100, 'b':200, 'c':300}\n",
    "print(returnsum(my_dict))"
   ]
  },
  {
   "cell_type": "code",
   "execution_count": 94,
   "id": "26255958",
   "metadata": {},
   "outputs": [
    {
     "name": "stdout",
     "output_type": "stream",
     "text": [
      "600\n"
     ]
    }
   ],
   "source": [
    "def returnsum(dictionary):\n",
    "    return sum(dictionary.values())\n",
    "\n",
    "my_dict = {'a': 100, 'b':200, 'c':300}\n",
    "print(returnsum(my_dict))"
   ]
  },
  {
   "cell_type": "code",
   "execution_count": 98,
   "id": "5aa72bf3",
   "metadata": {},
   "outputs": [
    {
     "name": "stdout",
     "output_type": "stream",
     "text": [
      "470\n"
     ]
    }
   ],
   "source": [
    "import numpy as np\n",
    "def returnsum(dictionary):\n",
    "    vals = np.sum(list(dictionary.values()))\n",
    "    \n",
    "    return vals\n",
    "\n",
    "my_dict = {'a': 100, 'b':20, 'c':350}\n",
    "print(returnsum(my_dict))"
   ]
  },
  {
   "cell_type": "markdown",
   "id": "cd0650d8",
   "metadata": {},
   "source": [
    "### Python | Ways to remove a key from dictionary"
   ]
  },
  {
   "cell_type": "code",
   "execution_count": 102,
   "id": "f26203b0",
   "metadata": {},
   "outputs": [
    {
     "name": "stdout",
     "output_type": "stream",
     "text": [
      "{'a': 100, 'c': 350}\n"
     ]
    }
   ],
   "source": [
    "# with pop()\n",
    "my_dict = {'a': 100, 'b':20, 'c':350}\n",
    "my_dict.pop('b')\n",
    "print(my_dict)"
   ]
  },
  {
   "cell_type": "code",
   "execution_count": 104,
   "id": "6256a94c",
   "metadata": {},
   "outputs": [
    {
     "name": "stdout",
     "output_type": "stream",
     "text": [
      "{'a': 100, 'c': 350}\n"
     ]
    }
   ],
   "source": [
    "# with del \n",
    "my_dict = {'a': 100, 'b':20, 'c':350}\n",
    "del my_dict['b']\n",
    "\n",
    "print(my_dict)"
   ]
  },
  {
   "cell_type": "code",
   "execution_count": 112,
   "id": "ef65d5b1",
   "metadata": {},
   "outputs": [
    {
     "name": "stdout",
     "output_type": "stream",
     "text": [
      "The dictionary before performing remove is : {'Arushi': 22, 'Anuradha': 21, 'Mani': 21, 'Haritha': 21}\n",
      "new dictionary is : {'Arushi': 22, 'Anuradha': 21, 'Haritha': 21}\n"
     ]
    }
   ],
   "source": [
    "#Using items() + dict comprehension to Remove a Key from a Dictionary\n",
    "\n",
    "test_dict = {\"Arushi\": 22, \"Anuradha\": 21,\n",
    "             \"Mani\": 21, \"Haritha\": 21}\n",
    "\n",
    "print(\"The dictionary before performing \\\n",
    "remove is : \" + str(test_dict))\n",
    " \n",
    "    \n",
    "new_dict = {key : test_dict[key] for key in test_dict if key != 'Mani'}\n",
    "\n",
    "print(\"new dictionary is :\",new_dict)"
   ]
  },
  {
   "cell_type": "code",
   "execution_count": 114,
   "id": "3387ee3d",
   "metadata": {},
   "outputs": [
    {
     "name": "stdout",
     "output_type": "stream",
     "text": [
      "{}\n"
     ]
    }
   ],
   "source": [
    "# Delete all Keys from a Dictionary using dict.clear()\n",
    "\n",
    "test_dict = {\"Arushi\": 22, \"Anuradha\": 21,\n",
    "             \"Mani\": 21, \"Haritha\": 21}\n",
    "\n",
    "test_dict.clear()\n",
    "\n",
    "print(test_dict)\n",
    "# dictionary is cleared"
   ]
  },
  {
   "cell_type": "markdown",
   "id": "f21b2721",
   "metadata": {},
   "source": [
    "### Ways to sort list of dictionaries by values in Python – Using itemgetter"
   ]
  },
  {
   "cell_type": "code",
   "execution_count": 121,
   "id": "8b392a36",
   "metadata": {},
   "outputs": [
    {
     "name": "stdout",
     "output_type": "stream",
     "text": [
      "age wise sorted list is :\n",
      "[{'name': 'Nikhil', 'age': 19}, {'name': 'Nandini', 'age': 20}, {'name': 'Manjeet', 'age': 20}]\n",
      "age wise and name wise sorted list:\n",
      "[{'name': 'Nikhil', 'age': 19}, {'name': 'Manjeet', 'age': 20}, {'name': 'Nandini', 'age': 20}]\n",
      "age descending  :\n",
      "[{'name': 'Nandini', 'age': 20}, {'name': 'Manjeet', 'age': 20}, {'name': 'Nikhil', 'age': 19}]\n"
     ]
    }
   ],
   "source": [
    "from operator import itemgetter\n",
    "list1 = [{\"name\": \"Nandini\", \"age\": 20},\n",
    "       {\"name\": \"Manjeet\", \"age\": 20},\n",
    "       {\"name\": \"Nikhil\", \"age\": 19}]\n",
    "\n",
    "print(\"age wise sorted list is :\")\n",
    "print(sorted(list1, key = itemgetter('age')))\n",
    "\n",
    "print(\"age wise and name wise sorted list:\")\n",
    "print(sorted(list1, key = itemgetter('age', 'name')))\n",
    "\n",
    "print(\"age descending  :\")\n",
    "print(sorted(list1, key = itemgetter('age'), reverse = True))"
   ]
  },
  {
   "cell_type": "markdown",
   "id": "9439d817",
   "metadata": {},
   "source": [
    "### Ways to sort list of dictionaries by values in Python – Using lambda function"
   ]
  },
  {
   "cell_type": "code",
   "execution_count": 134,
   "id": "9e588bfc",
   "metadata": {},
   "outputs": [
    {
     "name": "stdout",
     "output_type": "stream",
     "text": [
      "the sorted list with age in ascending order is :\n",
      "[{'name': 'Nikhil', 'age': 19}, {'name': 'Ajay', 'age': 20}, {'name': 'Mayur', 'age': 21}]\n",
      "\r\n",
      "the sorted data list with age and name in ascending order is: \n",
      "[{'name': 'Nikhil', 'age': 19}, {'name': 'Ajay', 'age': 20}, {'name': 'Mayur', 'age': 21}]\n",
      "\r\n",
      "the sorted data list with age in descending order:\n",
      "[{'name': 'Mayur', 'age': 21}, {'name': 'Ajay', 'age': 20}, {'name': 'Nikhil', 'age': 19}]\n"
     ]
    }
   ],
   "source": [
    "list1 = [{\"name\": \"Ajay\", \"age\": 20},\n",
    "       {\"name\": \"Mayur\", \"age\": 21},\n",
    "       {\"name\": \"Nikhil\", \"age\": 19}]\n",
    "\n",
    "print(\"the sorted list with age in ascending order is :\")\n",
    "print(sorted(list1, key = lambda i:i['age']))\n",
    "\n",
    "\n",
    "\n",
    "print(\"the sorted data list with age and name in ascending order is: \")\n",
    "print(sorted(list1, key = lambda i:(i['age'], i['name'])))\n",
    "\n",
    "print(\"\\r\")\n",
    "\n",
    "print(\"the sorted data list with age in descending order:\")\n",
    "print(sorted(list1, key = lambda i:(i['age']), reverse = True))"
   ]
  },
  {
   "cell_type": "markdown",
   "id": "f908cdab",
   "metadata": {},
   "source": [
    "### Python | Merging two Dictionaries\n"
   ]
  },
  {
   "cell_type": "code",
   "execution_count": 138,
   "id": "c4028b2e",
   "metadata": {},
   "outputs": [
    {
     "name": "stdout",
     "output_type": "stream",
     "text": [
      "None\n",
      "{'a': 10, 'b': 8, 'd': 6, 'c': 4}\n"
     ]
    }
   ],
   "source": [
    "def merging(dict1, dict2):\n",
    "    return (dict1.update(dict2))\n",
    "\n",
    "dict1 = {'a': 10, 'b': 8}\n",
    "dict2 = {'d': 6, 'c': 4}\n",
    "\n",
    "\n",
    "\n",
    "print(merging(dict1, dict2))\n",
    "\n",
    "print(dict1)"
   ]
  },
  {
   "cell_type": "code",
   "execution_count": 141,
   "id": "af161563",
   "metadata": {},
   "outputs": [
    {
     "name": "stdout",
     "output_type": "stream",
     "text": [
      "{'a': 10, 'b': 8, 'd': 6, 'c': 4}\n"
     ]
    }
   ],
   "source": [
    "def merging(dict1, dict2):\n",
    "    result ={**dict1, **dict2}\n",
    "    \n",
    "    return result\n",
    "\n",
    "dict1 = {'a': 10, 'b': 8}\n",
    "dict2 = {'d': 6, 'c': 4}\n",
    "\n",
    "print(merging(dict1, dict2))\n"
   ]
  },
  {
   "cell_type": "code",
   "execution_count": 143,
   "id": "66b5350c",
   "metadata": {},
   "outputs": [
    {
     "name": "stdout",
     "output_type": "stream",
     "text": [
      "{'a': 10, 'b': 8, 'd': 6, 'c': 4}\n",
      "<built-in method items of dict object at 0x000001BD22BC77C0>\n"
     ]
    }
   ],
   "source": [
    "# use “|” operator\n",
    "\n",
    "\n",
    "def with_operator(dict1, dict2):\n",
    "    result = dict1 | dict2\n",
    "    \n",
    "    return result\n",
    "\n",
    "dict1 = {'a': 10, 'b': 8}\n",
    "dict2 = {'d': 6, 'c': 4}\n",
    "\n",
    "print(with_operator(dict1, dict2))\n"
   ]
  },
  {
   "cell_type": "code",
   "execution_count": 145,
   "id": "9fcfee00",
   "metadata": {},
   "outputs": [
    {
     "name": "stdout",
     "output_type": "stream",
     "text": [
      "{'a': 10, 'c': 4, 'd': 6, 'b': 8}\n"
     ]
    }
   ],
   "source": [
    "def with_items(dict1, dict2):\n",
    "    result = dict(dict1.items()| dict2.items())\n",
    "    return result\n",
    "\n",
    "dict1 = {'a': 10, 'b': 8}\n",
    "dict2 = {'d': 6, 'c': 4}\n",
    "\n",
    "print(with_items(dict1, dict2))"
   ]
  },
  {
   "cell_type": "markdown",
   "id": "d71e5821",
   "metadata": {},
   "source": [
    "### Python – Convert key-values list to flat dictionary"
   ]
  },
  {
   "cell_type": "code",
   "execution_count": 147,
   "id": "2150d5b3",
   "metadata": {},
   "outputs": [
    {
     "name": "stdout",
     "output_type": "stream",
     "text": [
      "the original dictionary is : {'month': [1, 2, 3], 'name': ['Jan', 'Feb', 'March']}\n",
      "{1: 'Jan', 2: 'Feb', 3: 'March'}\n"
     ]
    }
   ],
   "source": [
    "test_dict = {'month' : [1, 2, 3],\n",
    "             'name' : ['Jan', 'Feb', 'March']}\n",
    "\n",
    "print(\"the original dictionary is :\", str(test_dict))\n",
    "\n",
    "result = dict(zip(test_dict['month'], test_dict['name']))\n",
    "\n",
    "print(result)"
   ]
  },
  {
   "cell_type": "code",
   "execution_count": 148,
   "id": "bac7512c",
   "metadata": {},
   "outputs": [
    {
     "name": "stdout",
     "output_type": "stream",
     "text": [
      "{1: 'Jan', 2: 'Feb', 3: 'March'}\n"
     ]
    }
   ],
   "source": [
    "test_dict = {'month': [1, 2, 3], 'name': ['Jan', 'Feb', 'March']}\n",
    "result = {test_dict['month'][i]:test_dict['name'][i] for i in range(len(test_dict['month']))}\n",
    "print(result)"
   ]
  },
  {
   "cell_type": "markdown",
   "id": "5105751e",
   "metadata": {},
   "source": [
    "### combining two list together to form a dictionary "
   ]
  },
  {
   "cell_type": "code",
   "execution_count": 32,
   "id": "a68eb605",
   "metadata": {},
   "outputs": [
    {
     "name": "stdout",
     "output_type": "stream",
     "text": [
      "{'jan': 1, 'feb': 2, 'mar': 3, 'apr': 4, 'may': 5, 'jun': 6, 'jul': 7, 'aug': 8, 'sep': 9, 'oct': 10, 'nov': 11, 'dec': 12}\n"
     ]
    }
   ],
   "source": [
    "import numpy as np\n",
    "month = np.array((\"jan\", 'feb', 'mar', 'apr','may','jun','jul','aug','sep','oct','nov','dec'))\n",
    "month_number = np.array((1,2,3,4,5,6,7,8,9,10,11,12))\n",
    "\n",
    "result = dict(zip(month, month_number))\n",
    "\n",
    "print(result)\n",
    "\n"
   ]
  },
  {
   "cell_type": "code",
   "execution_count": 33,
   "id": "72eac6bb",
   "metadata": {},
   "outputs": [
    {
     "name": "stdout",
     "output_type": "stream",
     "text": [
      "{'jan': 1, 'feb': 2, 'mar': 3, 'apr': 4, 'may': 5, 'jun': 6, 'jul': 7, 'aug': 8, 'sep': 9, 'oct': 10, 'nov': 11, 'dec': 12}\n"
     ]
    }
   ],
   "source": [
    "month = np.array((\"jan\", 'feb', 'mar', 'apr','may','jun','jul','aug','sep','oct','nov','dec'))\n",
    "month_number = np.array((1,2,3,4,5,6,7,8,9,10,11,12))\n",
    "result = {month[i]:month_number[i] for i in range(len(month_number))}\n",
    "print(result)"
   ]
  },
  {
   "cell_type": "code",
   "execution_count": 176,
   "id": "1f56deec",
   "metadata": {},
   "outputs": [
    {
     "name": "stdout",
     "output_type": "stream",
     "text": [
      "[1, 2, 3, 4, 5, 6, 7, 8, 9, 10, 11, 12]\n",
      "{'jan': 1, 'feb': 2, 'mar': 3, 'apr': 4, 'may': 5, 'jun': 6, 'jul': 7, 'aug': 8, 'sep': 9, 'oct': 10, 'nov': 11, 'dec': 12}\n"
     ]
    }
   ],
   "source": [
    "month = np.array((\"jan\", 'feb', 'mar', 'apr','may','jun','jul','aug','sep','oct','nov','dec'))\n",
    "\n",
    "count = 0\n",
    "month_number = []\n",
    "for i in month:\n",
    "    count = count+1\n",
    "    month_number.append(count)\n",
    "    \n",
    "print(month_number)\n",
    "\n",
    "    \n",
    "result = dict(zip(month, month_number))\n",
    "print(result)"
   ]
  },
  {
   "cell_type": "markdown",
   "id": "b6a35255",
   "metadata": {},
   "source": [
    "### Python – Insertion at the beginning in OrderedDict"
   ]
  },
  {
   "cell_type": "markdown",
   "id": "283395fc",
   "metadata": {},
   "source": [
    "Input: \n",
    "original_dict = {'a':1, 'b':2}\n",
    "item to be inserted ('c', 3)\n",
    "\n",
    "Output:  {'c':3, 'a':1, 'b':2}"
   ]
  },
  {
   "cell_type": "code",
   "execution_count": 35,
   "id": "f8ac6d60",
   "metadata": {},
   "outputs": [
    {
     "name": "stdout",
     "output_type": "stream",
     "text": [
      "OrderedDict([('priti', 5), ('rohit', 1), ('priya', 2), ('shubham', 3)])\n"
     ]
    }
   ],
   "source": [
    "from collections import OrderedDict\n",
    "\n",
    "inordered_dict = OrderedDict([('rohit',1), ('priya', 2),('shubham',3)])\n",
    "\n",
    "inordered_dict.update({'priti': 5})\n",
    "\n",
    "inordered_dict.move_to_end('priti', last = False)\n",
    "\n",
    "print(str(inordered_dict))\n"
   ]
  },
  {
   "cell_type": "code",
   "execution_count": 36,
   "id": "0f6baea8",
   "metadata": {},
   "outputs": [
    {
     "name": "stdout",
     "output_type": "stream",
     "text": [
      "OrderedDict([('manjeet', '4'), ('akash', '4'), ('akshat', '1'), ('nikhil', '2')])\n"
     ]
    }
   ],
   "source": [
    "ini_dict1 = OrderedDict([('akshat', '1'), ('nikhil', '2')])\n",
    "ini_dict2 = OrderedDict([(\"manjeet\", '4'), (\"akash\", '4')])\n",
    "\n",
    "\n",
    "result = OrderedDict(list(ini_dict2.items()) + list(ini_dict1.items()))\n",
    "\n",
    "print(str(result))"
   ]
  },
  {
   "cell_type": "markdown",
   "id": "7a818d4c",
   "metadata": {},
   "source": [
    "### Python | Check order of character in string using OrderedDict( )"
   ]
  },
  {
   "cell_type": "code",
   "execution_count": 41,
   "id": "78e7b792",
   "metadata": {},
   "outputs": [
    {
     "name": "stdout",
     "output_type": "stream",
     "text": [
      "False\n"
     ]
    }
   ],
   "source": [
    "def check_ordered(sentence, pattern):\n",
    "    \n",
    "    dictionary = OrderedDict.fromkeys(sentence)\n",
    "    \n",
    "    \n",
    "    pattern_len = 0\n",
    "    \n",
    "    for key, value in dictionary.items():\n",
    "        if (key == pattern[pattern_len]):\n",
    "            pattern_len = pattern_len+1\n",
    "            \n",
    "            \n",
    "        if ((pattern_len)==(len(pattern))):\n",
    "            \n",
    "            return \"True\"\n",
    "    return \"False\"\n",
    "    \n",
    "    \n",
    "    \n",
    "if __name__ == \"__main__\":\n",
    "    sentence = 'engineers rock'\n",
    "    pattern ='erss'\n",
    "    \n",
    "    print(check_ordered(sentence, pattern))"
   ]
  },
  {
   "cell_type": "code",
   "execution_count": 42,
   "id": "a147f966",
   "metadata": {},
   "outputs": [
    {
     "name": "stdout",
     "output_type": "stream",
     "text": [
      "True\n"
     ]
    }
   ],
   "source": [
    "def check_ordered(sentence, pattern):\n",
    "    i = 0\n",
    "    j = 0\n",
    "    \n",
    "    for char in sentence:\n",
    "        if char == pattern[j]:\n",
    "            j+=1\n",
    "            \n",
    "        if j == len(pattern):\n",
    "            return True\n",
    "        \n",
    "        i +=1\n",
    "        \n",
    "    return False\n",
    "\n",
    "sentence = \"lets check with this\"\n",
    "pattern = 'che'\n",
    "\n",
    "print(check_ordered(sentence, pattern))"
   ]
  },
  {
   "cell_type": "markdown",
   "id": "52dc9604",
   "metadata": {},
   "source": [
    "### Dictionary and counter in Python to find winner of election"
   ]
  },
  {
   "cell_type": "markdown",
   "id": "7237129b",
   "metadata": {},
   "source": [
    "Input :  votes[] = {\"john\", \"johnny\", \"jackie\", \n",
    "                    \"johnny\", \"john\", \"jackie\", \n",
    "                    \"jamie\", \"jamie\", \"john\",\n",
    "                    \"johnny\", \"jamie\", \"johnny\", \n",
    "                    \"john\"};\n",
    "Output : John"
   ]
  },
  {
   "cell_type": "code",
   "execution_count": 243,
   "id": "4e312b76",
   "metadata": {},
   "outputs": [
    {
     "name": "stdout",
     "output_type": "stream",
     "text": [
      "john\n"
     ]
    }
   ],
   "source": [
    "# Function to find winner of an election where votes \n",
    "# are represented as candidate names \n",
    "from collections import Counter \n",
    "\n",
    "def winner(input): \n",
    "\n",
    "\t# convert list of candidates into dictionary \n",
    "\t# output will be likes candidates = {'A':2, 'B':4} \n",
    "\tvotes = Counter(input) \n",
    "\t\n",
    "\t# create another dictionary and it's key will \n",
    "\t# be count of votes values will be name of \n",
    "\t# candidates \n",
    "\tdict = {} \n",
    "\n",
    "\tfor value in votes.values(): \n",
    "\n",
    "\t\t# initialize empty list to each key to \n",
    "\t\t# insert candidate names having same \n",
    "\t\t# number of votes \n",
    "\t\tdict[value] = [] \n",
    "\n",
    "\tfor (key,value) in votes.items(): \n",
    "\t\tdict[value].append(key) \n",
    "\n",
    "\t# sort keys in descending order to get maximum \n",
    "\t# value of votes \n",
    "\tmaxVote = sorted(dict.keys(),reverse=True)[0] \n",
    "\n",
    "\t# check if more than 1 candidates have same \n",
    "\t# number of votes. If yes, then sort the list \n",
    "\t# first and print first element \n",
    "\tif len(dict[maxVote])>1: \n",
    "\t\tprint (sorted(dict[maxVote])[0])\n",
    "\telse: \n",
    "\t\tprint (dict[maxVote][0]) \n",
    "\n",
    "# Driver program \n",
    "if __name__ == \"__main__\": \n",
    "\tinput =['john','johnny','jackie','johnny',\n",
    "\t\t\t'john','jackie','jamie','jamie',\n",
    "\t\t\t'john','johnny','jamie','johnny',\n",
    "\t\t\t'john']\n",
    "\twinner(input) \n"
   ]
  },
  {
   "cell_type": "code",
   "execution_count": 65,
   "id": "0ea1c53f",
   "metadata": {},
   "outputs": [
    {
     "name": "stdout",
     "output_type": "stream",
     "text": [
      "john\n",
      "4\n"
     ]
    }
   ],
   "source": [
    "from collections import Counter\n",
    "def winner(input): \n",
    "\n",
    "    # convert list of candidates into dictionary \n",
    "    # output will be like candidates = {'A': 2, 'B': 4} \n",
    "    votes = Counter(input)\n",
    "    dict = {}\n",
    "    \n",
    "    for value in votes.values():\n",
    "        dict[value] = []\n",
    "        \n",
    "    for key, value in votes.items():\n",
    "        dict[value].append(key)\n",
    "        \n",
    "    maxvote = sorted(dict.keys(), reverse = True)[0]\n",
    "    \n",
    "    if len(dict[maxvote])> 1:\n",
    "        print(sorted(dict[maxvote])[0])\n",
    "    else:\n",
    "        print(dict[maxvote][0])\n",
    "        \n",
    "    \n",
    "    return maxvote\n",
    "\n",
    "\n",
    "input =['john','johnny','jackie','johnny',\n",
    "        'john','jackie','jamie','jamie',\n",
    "        'john','johnny','jamie','johnny',\n",
    "        'john']    \n",
    "print(winner(input))"
   ]
  },
  {
   "cell_type": "code",
   "execution_count": null,
   "id": "4a57bb3a",
   "metadata": {},
   "outputs": [],
   "source": []
  },
  {
   "cell_type": "markdown",
   "id": "3ebee5be",
   "metadata": {},
   "source": [
    "### Python – Append Dictionary Keys and Values ( In order ) in dictionary"
   ]
  },
  {
   "cell_type": "code",
   "execution_count": null,
   "id": "889fddd9",
   "metadata": {},
   "outputs": [],
   "source": []
  },
  {
   "cell_type": "code",
   "execution_count": 249,
   "id": "03c4eade",
   "metadata": {},
   "outputs": [
    {
     "name": "stdout",
     "output_type": "stream",
     "text": [
      "original dictionary is : {'jan': 1, 'feb': 2, 'mar': 3, 'apr': 4, 'may': 5, 'jun': 6, 'jul': 7, 'aug': 8, 'sep': 9, 'oct': 10, 'nov': 11, 'dec': 12}\n",
      "\r\n",
      "\r\n",
      "result after converting into list is: ['jan', 'feb', 'mar', 'apr', 'may', 'jun', 'jul', 'aug', 'sep', 'oct', 'nov', 'dec', 1, 2, 3, 4, 5, 6, 7, 8, 9, 10, 11, 12]\n"
     ]
    }
   ],
   "source": [
    "testing_dict = {'jan': 1, 'feb': 2, 'mar': 3, 'apr': 4, 'may': 5, 'jun': 6, 'jul': 7, 'aug': 8, 'sep': 9, 'oct': 10, 'nov': 11, 'dec': 12}\n",
    "\n",
    "print(\"original dictionary is :\", str(testing_dict))\n",
    "\n",
    "print(\"\\r\")\n",
    "print(\"\\r\")\n",
    "result = list(testing_dict.keys()) + list(testing_dict.values())\n",
    "\n",
    "\n",
    "print(\"result after converting into list is:\",result)\n",
    "\n",
    "\n"
   ]
  },
  {
   "cell_type": "code",
   "execution_count": 259,
   "id": "bcdb0ef2",
   "metadata": {},
   "outputs": [
    {
     "name": "stdout",
     "output_type": "stream",
     "text": [
      "the original dictionary is : {'jan': 1, 'feb': 2, 'mar': 3, 'apr': 4, 'may': 5, 'jun': 6, 'jul': 7, 'aug': 8, 'sep': 9, 'oct': 10, 'nov': 11, 'dec': 12}\n",
      "\r\n",
      "['jan', 'feb', 'mar', 'apr', 'may', 'jun', 'jul', 'aug', 'sep', 'oct', 'nov', 'dec', 1, 2, 3, 4, 5, 6, 7, 8, 9, 10, 11, 12]\n"
     ]
    }
   ],
   "source": [
    "# using chain ()\n",
    "\n",
    "from itertools import chain\n",
    "\n",
    "testing_dict = {'jan': 1, 'feb': 2, 'mar': 3, 'apr': 4, 'may': 5, 'jun': 6, 'jul': 7, 'aug': 8, 'sep': 9, 'oct': 10, 'nov': 11, 'dec': 12}\n",
    "\n",
    "print(\"the original dictionary is :\", str(testing_dict))\n",
    "\n",
    "print(\"\\r\")\n",
    "result = list(chain(testing_dict.keys(), testing_dict.values()))\n",
    "\n",
    "print(result)"
   ]
  },
  {
   "cell_type": "code",
   "execution_count": 274,
   "id": "fa12fba3",
   "metadata": {
    "scrolled": true
   },
   "outputs": [
    {
     "name": "stdout",
     "output_type": "stream",
     "text": [
      "original dictionary is : {'jan': 1, 'feb': 2, 'mar': 3, 'apr': 4, 'may': 5, 'jun': 6, 'jul': 7, 'aug': 8, 'sep': 9, 'oct': 10, 'nov': 11, 'dec': 12}\n",
      "\r\n",
      "after extracting month names from the dictionary testing_dict  : ['jan', 'feb', 'mar', 'apr', 'may', 'jun', 'jul', 'aug', 'sep', 'oct', 'nov', 'dec']\n",
      "\r\n",
      "after extracting month number from the dictionary testing_dict : [1, 2, 3, 4, 5, 6, 7, 8, 9, 10, 11, 12]\n",
      "\r\n",
      "after appending dictionary keys and values in a list ['jan', 'feb', 'mar', 'apr', 'may', 'jun', 'jul', 'aug', 'sep', 'oct', 'nov', 'dec', 1, 2, 3, 4, 5, 6, 7, 8, 9, 10, 11, 12]\n"
     ]
    }
   ],
   "source": [
    "# using extend ()\n",
    "testing_dict = {'jan': 1, 'feb': 2, 'mar': 3, 'apr': 4, 'may': 5, 'jun': 6, 'jul': 7, 'aug': 8, 'sep': 9, 'oct': 10, 'nov': 11, 'dec': 12}\n",
    "\n",
    "print(\"original dictionary is :\", str(testing_dict))\n",
    "\n",
    "print(\"\\r\")\n",
    "\n",
    "list1 =list(testing_dict.keys())\n",
    "\n",
    "print(\"after extracting month names from the dictionary testing_dict  :\", list1)\n",
    "print(\"\\r\")\n",
    "list2 = list(testing_dict.values())\n",
    "\n",
    "print(\"after extracting month number from the dictionary testing_dict :\", list2)\n",
    "print(\"\\r\")\n",
    "\n",
    "list1.extend(list2)\n",
    "\n",
    "\n",
    "\n",
    "print(\"after appending dictionary keys and values in a list\",list1)"
   ]
  },
  {
   "cell_type": "markdown",
   "id": "8708bc5b",
   "metadata": {},
   "source": [
    "### Python | Sort Python Dictionaries by Key or Value"
   ]
  },
  {
   "cell_type": "code",
   "execution_count": 75,
   "id": "3d98a21a",
   "metadata": {},
   "outputs": [
    {
     "name": "stdout",
     "output_type": "stream",
     "text": [
      "['apr', 'aug', 'dec', 'feb', 'jan', 'jul', 'jun', 'mar', 'may', 'nov', 'oct', 'sep']\n",
      "\r\n"
     ]
    },
    {
     "data": {
      "text/plain": [
       "{'apr': 4,\n",
       " 'aug': 8,\n",
       " 'dec': 12,\n",
       " 'feb': 2,\n",
       " 'jan': 1,\n",
       " 'jul': 7,\n",
       " 'jun': 6,\n",
       " 'mar': 3,\n",
       " 'may': 5,\n",
       " 'nov': 11,\n",
       " 'oct': 10,\n",
       " 'sep': 9}"
      ]
     },
     "execution_count": 75,
     "metadata": {},
     "output_type": "execute_result"
    }
   ],
   "source": [
    "testing_dict = {'jan': 1, 'feb': 2, 'mar': 3, 'apr': 4, 'may': 5, 'jun': 6, 'jul': 7, 'aug': 8, 'sep': 9, 'oct': 10, 'nov': 11, 'dec': 12}\n",
    "\n",
    "testing_list = list(testing_dict.keys())\n",
    "testing_list.sort()\n",
    "print(testing_list)\n",
    "print(\"\\r\")\n",
    "\n",
    "sorted_dict = {i:testing_dict[i] for i in testing_list}\n",
    "sorted_dict\n",
    "\n"
   ]
  },
  {
   "cell_type": "code",
   "execution_count": 71,
   "id": "4ed1e8a0",
   "metadata": {},
   "outputs": [
    {
     "data": {
      "text/plain": [
       "{'apr': 4,\n",
       " 'aug': 8,\n",
       " 'dec': 12,\n",
       " 'feb': 2,\n",
       " 'jan': 1,\n",
       " 'jul': 7,\n",
       " 'jun': 6,\n",
       " 'mar': 3,\n",
       " 'may': 5,\n",
       " 'nov': 11,\n",
       " 'oct': 10,\n",
       " 'sep': 9}"
      ]
     },
     "execution_count": 71,
     "metadata": {},
     "output_type": "execute_result"
    }
   ],
   "source": [
    "testing_dict = {'jan': 1, 'feb': 2, 'mar': 3, 'apr': 4, 'may': 5, 'jun': 6, 'jul': 7, 'aug': 8, 'sep': 9, 'oct': 10, 'nov': 11, 'dec': 12}\n",
    "\n",
    "\n",
    "test_list = list(sorted(testing_dict.keys()))\n",
    "test_list\n",
    "\n",
    "sorted_dict = {i:testing_dict[i] for i in test_list}\n",
    "sorted_dict"
   ]
  },
  {
   "cell_type": "code",
   "execution_count": 298,
   "id": "f3ec11cd",
   "metadata": {},
   "outputs": [
    {
     "name": "stdout",
     "output_type": "stream",
     "text": [
      "OrderedDict([('apr', 4), ('aug', 8), ('dec', 12), ('feb', 2), ('jan', 1), ('jul', 7), ('jun', 6), ('mar', 3), ('may', 5), ('nov', 11), ('oct', 10), ('sep', 9)])\n"
     ]
    }
   ],
   "source": [
    "# using ordereddict()\n",
    "\n",
    "testing_dict = {'jan': 1, 'feb': 2, 'mar': 3, 'apr': 4, 'may': 5, 'jun': 6, 'jul': 7, 'aug': 8, 'sep': 9, 'oct': 10, 'nov': 11, 'dec': 12}\n",
    "\n",
    "result = OrderedDict((key, testing_dict[key]) for key in sorted(testing_dict.keys()))\n",
    "\n",
    "print(result)"
   ]
  },
  {
   "cell_type": "markdown",
   "id": "17139c61",
   "metadata": {},
   "source": [
    "### Python – Sort Dictionary key and values List"
   ]
  },
  {
   "cell_type": "markdown",
   "id": "615a96e9",
   "metadata": {},
   "source": [
    "Input : test_dict = {‘c’: [3], ‘b’: [12, 10], ‘a’: [19, 4]} \n",
    "Output : {‘a’: [4, 19], ‘b’: [10, 12], ‘c’: [3]} "
   ]
  },
  {
   "cell_type": "code",
   "execution_count": 339,
   "id": "fcc02443",
   "metadata": {},
   "outputs": [
    {
     "name": "stdout",
     "output_type": "stream",
     "text": [
      "sorted dictionary is : ['powerbi', 'sql', 'tableau']\n",
      "{'powerbi': [2, 3, 10], 'sql': [4, 19], 'tableau': [3, 6, 7]}\n"
     ]
    }
   ],
   "source": [
    "test_dict = {'tableau': [7, 6, 3], \n",
    "             'powerbi': [2, 10, 3], \n",
    "             'sql': [19, 4]}\n",
    "\n",
    "\n",
    "sorted_dict = sorted(test_dict)\n",
    "print(\"sorted dictionary is :\",sorted_dict)\n",
    "\n",
    "result = {}\n",
    "\n",
    "for i in sorted_dict:\n",
    "    result[i] = sorted(test_dict[i])\n",
    "    \n",
    "print(result)"
   ]
  },
  {
   "cell_type": "code",
   "execution_count": 346,
   "id": "201ddd3c",
   "metadata": {},
   "outputs": [
    {
     "name": "stdout",
     "output_type": "stream",
     "text": [
      "{'powerbi': [2, 3, 10], 'sql': [4, 19], 'tableau': [3, 6, 7]}\n"
     ]
    }
   ],
   "source": [
    "# using list comprehansion \n",
    "\n",
    "test_dict = {'tableau': [7, 6, 3], \n",
    "             'powerbi': [2, 10, 3], \n",
    "             'sql': [19, 4]}\n",
    "\n",
    "\n",
    "result = {i: sorted(test_dict[i]) for i in sorted(test_dict)}\n",
    "print(result)"
   ]
  },
  {
   "cell_type": "code",
   "execution_count": 355,
   "id": "79408b93",
   "metadata": {},
   "outputs": [
    {
     "name": "stdout",
     "output_type": "stream",
     "text": [
      "[('powerbi', [2, 10, 3]), ('sql', [19, 4]), ('tableau', [7, 6, 3])]\n"
     ]
    }
   ],
   "source": [
    "# with lambda function\n",
    "\n",
    "test_dict = {'tableau': [7, 6, 3], \n",
    "             'powerbi': [2, 10, 3], \n",
    "             'sql': [19, 4]}\n",
    "\n",
    "#result = dict(sorted(test_dict.items(), key = lambda x:x[0]))\n",
    "result = sorted(test_dict.items(), key=lambda x: x[0])\n",
    "\n",
    "print(result)"
   ]
  },
  {
   "cell_type": "code",
   "execution_count": null,
   "id": "305ff09b",
   "metadata": {},
   "outputs": [],
   "source": []
  },
  {
   "cell_type": "code",
   "execution_count": 358,
   "id": "27b6379a",
   "metadata": {},
   "outputs": [
    {
     "name": "stdout",
     "output_type": "stream",
     "text": [
      "10\n",
      "20\n",
      "30\n",
      "40\n"
     ]
    }
   ],
   "source": [
    "is_even_list = [lambda arg = x: arg * 10 for x in range(1, 5)]\n",
    "\n",
    "# iterate on each lambda function\n",
    "# and invoke the function to get the calculated value\n",
    "for item in is_even_list:\n",
    "    print(item())\n"
   ]
  },
  {
   "cell_type": "markdown",
   "id": "66b6f8bf",
   "metadata": {},
   "source": [
    "### Handling Missing Keys in Python Dictionaries\n"
   ]
  },
  {
   "cell_type": "code",
   "execution_count": 89,
   "id": "4759f86a",
   "metadata": {},
   "outputs": [
    {
     "name": "stdout",
     "output_type": "stream",
     "text": [
      "not found\n"
     ]
    }
   ],
   "source": [
    "ele = {'a': 5, 'c': 8, 'e': 2}\n",
    "\n",
    "if \"x\" in ele:\n",
    "    print(ele[\"d\"])\n",
    "else:\n",
    "    print(\"not found\")\n",
    "    \n",
    "# it will show error if you put key value from the ele dictionary "
   ]
  },
  {
   "cell_type": "code",
   "execution_count": 101,
   "id": "cec9a039",
   "metadata": {},
   "outputs": [
    {
     "name": "stdout",
     "output_type": "stream",
     "text": [
      "0091\n",
      "not found\n"
     ]
    }
   ],
   "source": [
    "country_code = {'India' : '0091',\n",
    "                'Australia' : '0025',\n",
    "                'Nepal' : '00977'}\n",
    "\n",
    "\n",
    "country_code.setdefault('japan', 'not found')\n",
    "\n",
    "\n",
    "print(country_code['India'])\n",
    "\n",
    "print(country_code['japan'])"
   ]
  },
  {
   "cell_type": "code",
   "execution_count": 97,
   "id": "09f1399e",
   "metadata": {},
   "outputs": [
    {
     "name": "stdout",
     "output_type": "stream",
     "text": [
      "8\n"
     ]
    }
   ],
   "source": [
    "ele = {'a': 5, 'c': 8, 'e': 2}\n",
    "\n",
    "x= ele.setdefault(\"c\", 90)\n",
    "\n",
    "print(x)"
   ]
  },
  {
   "cell_type": "markdown",
   "id": "08b0faa3",
   "metadata": {},
   "source": [
    "#The setdefault() method is used to add a key-value pair to the dictionary if the key is not already present. In this case, it checks if the key ' ' (a space) is present in the dictionary."
   ]
  },
  {
   "cell_type": "markdown",
   "id": "3ff56161",
   "metadata": {},
   "source": [
    "### Python dictionary with keys having multiple inputs\n"
   ]
  },
  {
   "cell_type": "code",
   "execution_count": 109,
   "id": "c81f1163",
   "metadata": {},
   "outputs": [
    {
     "name": "stdout",
     "output_type": "stream",
     "text": [
      "{(\"19.07'53.2\", \"72.54'51.0\"): 'Mumbai', (\"28.33'34.1\", \"77.06'16.6\"): 'Delhi'}\n",
      "\n",
      "\n",
      "[\"19.07'53.2\", \"28.33'34.1\"]\n",
      "[\"72.54'51.0\", \"77.06'16.6\"]\n",
      "['Mumbai', 'Delhi']\n"
     ]
    }
   ],
   "source": [
    "places = {(\"19.07'53.2\", \"72.54'51.0\"):\"Mumbai\", \\\n",
    "          (\"28.33'34.1\", \"77.06'16.6\"):\"Delhi\"}\n",
    "\n",
    "print(places)\n",
    "print(\"\\n\")\n",
    "\n",
    "\n",
    "lat=[]\n",
    "long=[]\n",
    "plc =[]\n",
    "\n",
    "\n",
    "for i in places:\n",
    "    lat.append(i[0])\n",
    "    long.append(i[1])\n",
    "    plc.append(places[i[0], i[1]]) # it will show the value of places[i[0], i[1]] i.e. mumbai in the 1st pair & delhi in 2nd\n",
    "    \n",
    "print(lat)\n",
    "print(long)\n",
    "print(plc)"
   ]
  },
  {
   "cell_type": "code",
   "execution_count": 128,
   "id": "5df972c0",
   "metadata": {
    "scrolled": true
   },
   "outputs": [
    {
     "name": "stdout",
     "output_type": "stream",
     "text": [
      "(1, 'John', 'Doe') {'a': 'geeks', 'b': 'software', 'c': 75000}\n",
      "(2, 'Jane', 'Smith') {'e': 30, 'f': 'for', 'g': 90000}\n",
      "(3, 'Bob', 'Johnson') {'h': 35, 'i': 'project', 'j': 'geeks'}\n",
      "(4, 'Alice', 'Lee') {'k': 40, 'l': 'marketing', 'm': 100000}\n"
     ]
    }
   ],
   "source": [
    "data = {\n",
    "    (1, \"John\", \"Doe\"): {\"a\": \"geeks\", \"b\": \"software\", \"c\": 75000},\n",
    "    (2, \"Jane\", \"Smith\"): {\"e\": 30, \"f\": \"for\", \"g\": 90000},\n",
    "    (3, \"Bob\", \"Johnson\"): {\"h\": 35, \"i\": \"project\", \"j\": \"geeks\"},\n",
    "    (4, \"Alice\", \"Lee\"): {\"k\": 40, \"l\": \"marketing\", \"m\": 100000}\n",
    "}  \n",
    "for i in data:\n",
    "    print(i, data[i])"
   ]
  },
  {
   "cell_type": "markdown",
   "id": "f8fafc4a",
   "metadata": {},
   "source": [
    "geeks\n",
    "\n",
    "90000\n",
    "\n",
    "geeks\n",
    "\n",
    "{'b': 'marketing', 'c': 75000}\n",
    "\n",
    "{'h': 35, 'i': 'project'}\n",
    "\n",
    "\n",
    "access these value as out for this data \n",
    "\n",
    "data = {\n",
    "    (1, \"John\", \"Doe\"): {\"a\": \"geeks\", \"b\": \"software\", \"c\": 75000},\n",
    "    (2, \"Jane\", \"Smith\"): {\"e\": 30, \"f\": \"for\", \"g\": 90000},\n",
    "    (3, \"Bob\", \"Johnson\"): {\"h\": 35, \"i\": \"project\", \"j\": \"geeks\"},\n",
    "    (4, \"Alice\", \"Lee\"): {\"k\": 40, \"l\": \"marketing\", \"m\": 100000}\n",
    "}"
   ]
  },
  {
   "cell_type": "code",
   "execution_count": 165,
   "id": "f1ac1458",
   "metadata": {},
   "outputs": [
    {
     "name": "stdout",
     "output_type": "stream",
     "text": [
      "original data is :\n",
      "(1, 'John', 'Doe') {'a': 'geeks', 'b': 'software', 'c': 75000}\n",
      "(2, 'Jane', 'Smith') {'e': 30, 'f': 'for', 'g': 90000}\n",
      "(3, 'Bob', 'Johnson') {'h': 35, 'i': 'project', 'j': 'geeks'}\n",
      "(4, 'Alice', 'Lee') {'k': 40, 'l': 'marketing', 'm': 100000}\n",
      "\n",
      "\n",
      "geeks\n",
      "\n",
      "\n",
      "90000\n",
      "\n",
      "\n",
      "{'b': 'marketing', 'c': 75000}\n",
      "\n",
      "\n",
      "{'h': 35, 'i': 'project'}\n",
      "\n",
      "\n",
      "after replacing the values of a and k:\n",
      "(1, 'John', 'Doe') {'a': {'b': 'marketing', 'c': 75000}, 'b': 'software', 'c': 75000}\n",
      "(2, 'Jane', 'Smith') {'e': 30, 'f': 'for', 'g': 90000}\n",
      "(3, 'Bob', 'Johnson') {'h': 35, 'i': 'project', 'j': 'geeks'}\n",
      "(4, 'Alice', 'Lee') {'k': {'h': 35, 'i': 'project'}, 'l': 'marketing', 'm': 100000}\n",
      "\n",
      "\n",
      "after correcting the value to original dictionary is :\n",
      "(1, 'John', 'Doe') {'a': 'geeks', 'b': 'software', 'c': 75000}\n",
      "(2, 'Jane', 'Smith') {'e': 30, 'f': 'for', 'g': 90000}\n",
      "(3, 'Bob', 'Johnson') {'h': 35, 'i': 'project', 'j': 'geeks'}\n",
      "(4, 'Alice', 'Lee') {'k': 40, 'l': 'marketing', 'm': 100000}\n"
     ]
    }
   ],
   "source": [
    "data = {\n",
    "    (1, \"John\", \"Doe\"): {\"a\": \"geeks\", \"b\": \"software\", \"c\": 75000},\n",
    "    (2, \"Jane\", \"Smith\"): {\"e\": 30, \"f\": \"for\", \"g\": 90000},\n",
    "    (3, \"Bob\", \"Johnson\"): {\"h\": 35, \"i\": \"project\", \"j\": \"geeks\"},\n",
    "    (4, \"Alice\", \"Lee\"): {\"k\": 40, \"l\": \"marketing\", \"m\": 100000}\n",
    "}\n",
    "\n",
    "print(\"original data is :\")\n",
    "\n",
    "for i in data:\n",
    "    print(i, data[i])\n",
    "    \n",
    "    \n",
    "print('\\n')\n",
    "print(data[(1, \"John\", \"Doe\")]['a'])\n",
    "\n",
    "print(\"\\n\")# just for spacing to look output better \n",
    "\n",
    "print(data[(2, \"Jane\", \"Smith\")][\"g\"])\n",
    "\n",
    "print(\"\\n\")\n",
    "\n",
    "\n",
    "#{'b': 'marketing', 'c': 75000}\n",
    "data[(1, \"John\", \"Doe\")]['a'] = {'b': 'marketing', 'c': 75000} # done with replacing with the original value\n",
    "print(data[(1, \"John\", \"Doe\")]['a'])\n",
    "\n",
    "\n",
    "#{'h': 35, 'i': 'project'}\n",
    "data[(4, \"Alice\", \"Lee\")]['k'] = {'h': 35, 'i': 'project'}\n",
    "\n",
    "print(\"\\n\")\n",
    "print(data[(4, \"Alice\", \"Lee\")]['k'])\n",
    "print(\"\\n\")\n",
    "\n",
    "print(\"after replacing the values of a and k:\")\n",
    "for i in data:\n",
    "    print(i, data[i])\n",
    "    \n",
    "    \n",
    "\n",
    "data[(1, \"John\", \"Doe\")]['a'] = 'geeks'\n",
    "data[(4, \"Alice\", \"Lee\")]['k'] = 40\n",
    "\n",
    "print('\\n')\n",
    "\n",
    "print(\"after correcting the value to original dictionary is :\")\n",
    "\n",
    "for i in data:\n",
    "    print(i, data[i])"
   ]
  },
  {
   "cell_type": "code",
   "execution_count": 184,
   "id": "0946fb10",
   "metadata": {
    "scrolled": true
   },
   "outputs": [
    {
     "data": {
      "text/plain": [
       "'h,i,o,r,t'"
      ]
     },
     "execution_count": 184,
     "metadata": {},
     "output_type": "execute_result"
    }
   ],
   "source": [
    "\n",
    "\n",
    "key = ','.join(sorted('rohit'))\n",
    "key"
   ]
  },
  {
   "cell_type": "markdown",
   "id": "3d85dc69",
   "metadata": {},
   "source": [
    "### Print anagrams together in Python using List and Dictionary"
   ]
  },
  {
   "cell_type": "code",
   "execution_count": 175,
   "id": "91e39719",
   "metadata": {},
   "outputs": [
    {
     "name": "stdout",
     "output_type": "stream",
     "text": [
      "cat tac act dog god \n"
     ]
    }
   ],
   "source": [
    "def allengram(input):\n",
    "    dict = {}\n",
    "    \n",
    "    for i in input:\n",
    "        key = ''.join(sorted(i))\n",
    "        \n",
    "        if key in dict.keys():\n",
    "            dict[keys].append(i)\n",
    "        else:\n",
    "            dict[key] = []\n",
    "            dict[key].append(i)\n",
    "            \n",
    "    output = \"\"\n",
    "    for key, value in dict.items():\n",
    "        output = output + ' '.join(value) + ' '\n",
    "\n",
    "    return output\n",
    "\n",
    "\n",
    "if __name__ == \"__main__\":\n",
    "    input=['cat', 'dog', 'tac', 'god', 'act']\n",
    "    print(allAnagram(input))\n",
    "        "
   ]
  },
  {
   "cell_type": "code",
   "execution_count": 186,
   "id": "21143e34",
   "metadata": {},
   "outputs": [
    {
     "name": "stdout",
     "output_type": "stream",
     "text": [
      "Anagrams for key \"act\": ['cat', 'tac', 'act']\n",
      "Anagrams for key \"dgo\": ['dog', 'god']\n",
      "Anagrams for key \"eilnst\": ['listen', 'silent', 'enlist']\n"
     ]
    }
   ],
   "source": [
    "def group_anagrams(words):\n",
    "    anagram_dict = {}\n",
    "\n",
    "    for word in words:\n",
    "        # Sort the characters of the word to create a key\n",
    "        sorted_word = ''.join(sorted(word))\n",
    "\n",
    "        # Check if the key is already in the dictionary\n",
    "        if sorted_word in anagram_dict:\n",
    "            # If the key exists, append the word to the list of anagrams\n",
    "            anagram_dict[sorted_word].append(word)\n",
    "        else:\n",
    "            # If the key doesn't exist, create a new list with the word as the first element\n",
    "            anagram_dict[sorted_word] = [word]\n",
    "\n",
    "    return anagram_dict\n",
    "\n",
    "# Example usage\n",
    "word_list = ['cat', 'dog', 'tac', 'god', 'act', 'listen', 'silent', 'enlist']\n",
    "result = group_anagrams(word_list)\n",
    "\n",
    "# Print the result\n",
    "for key, value in result.items():\n",
    "    print(f'Anagrams for key \"{key}\": {value}')\n"
   ]
  },
  {
   "cell_type": "code",
   "execution_count": 224,
   "id": "cc5467b7",
   "metadata": {},
   "outputs": [
    {
     "name": "stdout",
     "output_type": "stream",
     "text": [
      "({'act': ['cat', 'tac', 'act'], 'dgo': ['dog', 'god'], 'eilnst': ['listen', 'silent', 'enlist'], 'iinnt': ['nitin']}, 'iinnt')\n"
     ]
    }
   ],
   "source": [
    "def group_anagrams(words):\n",
    "    anagram_dict = {}\n",
    "\n",
    "    for word in words:\n",
    "        # Sort the characters of the word to create a key\n",
    "        sorted_word = ''.join(sorted(word))\n",
    "        \n",
    "        if sorted_word in anagram_dict:\n",
    "            anagram_dict[sorted_word].append(word)\n",
    "        else:\n",
    "            anagram_dict[sorted_word] = [word]\n",
    "            \n",
    "        \n",
    "         \n",
    "    return  anagram_dict,sorted_word\n",
    "\n",
    "word_list = ['cat', 'dog', 'tac', 'god', 'act', 'listen', 'silent', 'enlist', 'nitin']\n",
    "result = group_anagrams(word_list)\n",
    "\n",
    "\n",
    "print(group_anagrams(word_list))"
   ]
  },
  {
   "cell_type": "markdown",
   "id": "4091974c",
   "metadata": {},
   "source": [
    "### K’th Non-repeating Character in Python using List Comprehension and OrderedDict"
   ]
  },
  {
   "cell_type": "code",
   "execution_count": 238,
   "id": "471c2ffd",
   "metadata": {},
   "outputs": [
    {
     "name": "stdout",
     "output_type": "stream",
     "text": [
      "r\n"
     ]
    }
   ],
   "source": [
    "def kthRepeating(input,k):\n",
    "    \n",
    "    dict=OrderedDict.fromkeys(input,0)\n",
    "    \n",
    "    for i in input:\n",
    "        dict[i]+=1\n",
    "        \n",
    "        \n",
    "    nonrepeat= [key for [key, value] in dict.items() if value==1]\n",
    "    \n",
    "    if len(nonrepeat)>= k:\n",
    "        return nonrepeat[k-1]\n",
    "    else:\n",
    "        return \"less than k non repeating characters in input\"\n",
    "\n",
    "if __name__ == \"__main__\":\n",
    "    input = \"geeksforgeeks\"\n",
    "    k = 3\n",
    "    print (kthRepeating(input, k))"
   ]
  },
  {
   "cell_type": "markdown",
   "id": "d3133a4c",
   "metadata": {},
   "source": [
    "### Python Dictionary | Check if binary representations of two numbers are anagram"
   ]
  },
  {
   "cell_type": "code",
   "execution_count": 7,
   "id": "1ed809e8",
   "metadata": {},
   "outputs": [
    {
     "name": "stdout",
     "output_type": "stream",
     "text": [
      "enter first number:12\n",
      "enter second number:7584\n",
      "yes\n"
     ]
    }
   ],
   "source": [
    "from collections import Counter\n",
    "\n",
    "def binary(num1, num2):\n",
    "    \n",
    "    \n",
    "    bin1 = bin(num1)[2:]\n",
    "    bin2 = bin(num2)[2:]\n",
    "    \n",
    "    \n",
    "    length= abs(len(bin2)-len(bin1))\n",
    "    \n",
    "    \n",
    "    if len(bin2)>len(bin1):\n",
    "        bin1 = length * \"0\"+ bin2\n",
    "        \n",
    "    else:\n",
    "        bin2 = length * \"0\" +bin1\n",
    "\n",
    "        \n",
    "    dict1 = Counter(bin1)\n",
    "    dict2 = Counter(bin2)\n",
    "    \n",
    "    \n",
    "    if len(dict1)== len(dict2):\n",
    "        print(\"yes\")\n",
    "    else:\n",
    "        print(\"no\")\n",
    "        \n",
    "\n",
    "if __name__ == \"__main__\":\n",
    "    num1 = int(input(\"enter first number:\"))\n",
    "    num2 = int(input(\"enter second number:\"))\n",
    "    binary(num1,num2)"
   ]
  },
  {
   "cell_type": "markdown",
   "id": "76605a0b",
   "metadata": {},
   "source": [
    "### Python Counter to find the size of largest subset of anagram words"
   ]
  },
  {
   "cell_type": "code",
   "execution_count": 35,
   "id": "c6848ec4",
   "metadata": {},
   "outputs": [
    {
     "name": "stdout",
     "output_type": "stream",
     "text": [
      "after splitting the sentence : ['ant', 'magenta', 'magnate', 'tan', 'gnamate']\n",
      "word frequency is : Counter({'aaegmnt': 3, 'ant': 2})\n",
      "ant :key has maximum value\n",
      "3\n"
     ]
    }
   ],
   "source": [
    "from collections import Counter\n",
    "\n",
    "def maxi(sentence):\n",
    "    sentence = sentence.split(\" \")\n",
    "    \n",
    "    print(\"after splitting the sentence :\", sentence)\n",
    "    \n",
    "    for i in range(0, len(sentence)):\n",
    "        sentence[i] = \"\".join(sorted(sentence[i]))\n",
    "        \n",
    "    frequency = Counter(sentence)\n",
    "    \n",
    "    print(\"word frequency is :\",frequency)\n",
    "    \n",
    "    print(max(frequency.keys()), \":key has maximum value\")\n",
    "    \n",
    "    print(max(frequency.values()))\n",
    "    \n",
    "if __name__ == \"__main__\":\n",
    "    sentence ='ant magenta magnate tan gnamate'\n",
    "    maxi(sentence)"
   ]
  },
  {
   "cell_type": "code",
   "execution_count": 37,
   "id": "c46e854d",
   "metadata": {},
   "outputs": [
    {
     "name": "stdout",
     "output_type": "stream",
     "text": [
      "Python is great and Java also\n"
     ]
    }
   ],
   "source": [
    "def remove_duplicates(input):\n",
    "    \n",
    "    input = input.split(\" \")\n",
    "    \n",
    "    unique_count = Counter(input)\n",
    "    \n",
    "    s = \" \".join(unique_count.keys())\n",
    "    \n",
    "    \n",
    "    print(s)\n",
    "\n",
    "\n",
    "if __name__ == \"__main__\":\n",
    "    input = 'Python is great and Java is also great'\n",
    "    remove_duplicates(input)"
   ]
  },
  {
   "cell_type": "code",
   "execution_count": 42,
   "id": "9330a251",
   "metadata": {},
   "outputs": [
    {
     "name": "stdout",
     "output_type": "stream",
     "text": [
      "is also great and Java Python\n"
     ]
    }
   ],
   "source": [
    "string = 'Python is great and Java is also great'\n",
    "print(\" \".join(set(string.split())))\n"
   ]
  },
  {
   "cell_type": "code",
   "execution_count": 46,
   "id": "817cb742",
   "metadata": {},
   "outputs": [
    {
     "name": "stdout",
     "output_type": "stream",
     "text": [
      "['Python', 'is', 'great', 'and', 'Java', 'is', 'also', 'great']\n",
      "Python is great and Java also\n"
     ]
    }
   ],
   "source": [
    "string = 'Python is great and Java is also great'\n",
    "splitted = string.split()\n",
    "print(splitted)\n",
    "result = []\n",
    "\n",
    "for i in splitted:\n",
    "    \n",
    "    if i not in result:\n",
    "        result.append(i)\n",
    "        \n",
    "print((\" \".join(result)))"
   ]
  },
  {
   "cell_type": "markdown",
   "id": "c848f9d0",
   "metadata": {},
   "source": [
    "### Python Dictionary to find mirror characters in a string\n"
   ]
  },
  {
   "cell_type": "markdown",
   "id": "917f0fe2",
   "metadata": {},
   "source": [
    "Given a string and a number N, we need to mirror the characters from the N-th position up to the length of the string in alphabetical order. In mirror operation, we change ‘a’ to ‘z’, ‘b’ to ‘y’, and so on.\n"
   ]
  },
  {
   "cell_type": "code",
   "execution_count": null,
   "id": "abd1da32",
   "metadata": {},
   "outputs": [],
   "source": [
    "rar= 'rohit' \n",
    "pos = 3\n",
    "prefix = 'ro'\n",
    "suffix = 'hit'\n",
    "print(rar[0:pos-1])\n",
    "\n",
    "print(rar[pos-1:])"
   ]
  },
  {
   "cell_type": "code",
   "execution_count": 44,
   "id": "e36b8c97",
   "metadata": {},
   "outputs": [
    {
     "name": "stdout",
     "output_type": "stream",
     "text": [
      "rokivqviz\n"
     ]
    }
   ],
   "source": [
    "def mirror(string , position):\n",
    "    \n",
    "    original = 'abcdefghijklmnopqrstuvwxyz'\n",
    "    reverce = 'zyxwvutsrqponmlkjihgfedcba'\n",
    "    dictchart = dict(zip(original, reverce))\n",
    "    \n",
    "    \n",
    "    prefit = string[0:position-1]\n",
    "    suffix = string[position-1:]\n",
    "    mirror = ''\n",
    "    \n",
    "    for i in range(0,len(suffix)):\n",
    "        mirror = mirror+ dictchart[suffix[i]]\n",
    "    \n",
    "    print(prefix + mirror)\n",
    "        \n",
    "if __name__ == \"__main__\":\n",
    "    string = 'gaprejera'\n",
    "    position = 3\n",
    "    mirror(string,position)"
   ]
  },
  {
   "cell_type": "code",
   "execution_count": 49,
   "id": "ae16b5a0",
   "metadata": {},
   "outputs": [
    {
     "name": "stdout",
     "output_type": "stream",
     "text": [
      "ovvixlnv\n"
     ]
    }
   ],
   "source": [
    "\n",
    "\n",
    "\n",
    "def mirrorChars(input,k):\n",
    "\n",
    "    original = 'abcdefghijklmnopqrstuvwxyz'\n",
    "    reverse = 'zyxwvutsrqponmlkjihgfedcba'\n",
    "    dictChars = dict(zip(original,reverse))\n",
    "\n",
    "   \n",
    "    prefix = input[0:k-1]\n",
    "    suffix = input[k-1:]\n",
    "    mirror = ''\n",
    "\n",
    "    \n",
    "    for i in range(0,len(suffix)):\n",
    "        mirror = mirror + dictChars[suffix[i]]\n",
    "\n",
    "    print (prefix+mirror)\n",
    "\n",
    "if __name__ == \"__main__\":\n",
    "    input = 'overcome'\n",
    "    k = 3\n",
    "    mirrorChars(input,k)\n"
   ]
  },
  {
   "cell_type": "markdown",
   "id": "32722694",
   "metadata": {},
   "source": [
    "### Counting the frequencies in a list using dictionary in Python"
   ]
  },
  {
   "cell_type": "code",
   "execution_count": 60,
   "id": "762269d0",
   "metadata": {},
   "outputs": [
    {
     "name": "stdout",
     "output_type": "stream",
     "text": [
      "the output of the dictionary is : {1: 1, 5: 1, 3: 1, 4: 1, 2: 1}\n"
     ]
    }
   ],
   "source": [
    "def counts(mylist):\n",
    "    \n",
    "    dictionary = {}\n",
    "    \n",
    "    for i in mylist:\n",
    "        if i not in dictionary:\n",
    "         # If not, add the element as a key with a value of 1 (first occurrence).\n",
    "\n",
    "            dictionary[i] = 1\n",
    "            \n",
    "        else:\n",
    "            dictionary[i] = +1\n",
    "\n",
    "\n",
    "\n",
    "if __name__ == \"__main__\":\n",
    "    my_list = [1, 1, 1, 5, 5, 3, 1, 3, 3, 1, 4, 4, 4, 2, 2, 2, 2]\n",
    " \n",
    "    print(\"the output of the dictionary is :\",frequencycount(my_list))"
   ]
  },
  {
   "cell_type": "code",
   "execution_count": 72,
   "id": "17db9a4b",
   "metadata": {},
   "outputs": [
    {
     "name": "stdout",
     "output_type": "stream",
     "text": [
      "{1: 5, 5: 2, 3: 3, 4: 3, 2: 4}\n"
     ]
    }
   ],
   "source": [
    "import operator\n",
    "def countfreq(my_list):\n",
    "    \n",
    "    freq = {}\n",
    "    for i in my_list:\n",
    "        freq[i]=my_list.count(i)\n",
    "        \n",
    "    print(freq)\n",
    "if __name__ == \"__main__\":\n",
    "    my_list = [1, 1, 1, 5, 5, 3, 1, 3, 3, 1, 4, 4, 4, 2, 2, 2, 2]\n",
    "    countfreq(my_list)    "
   ]
  },
  {
   "cell_type": "markdown",
   "id": "7e562a66",
   "metadata": {},
   "source": [
    "### Python | Convert a list of Tuples into Dictionary\n"
   ]
  },
  {
   "cell_type": "markdown",
   "id": "fcdc2957",
   "metadata": {},
   "source": [
    "Input : [(\"akash\", 10), (\"gaurav\", 12), (\"anand\", 14), \n",
    "         (\"suraj\", 20), (\"akhil\", 25), (\"ashish\", 30)]\n",
    "         \n",
    "         \n",
    "Output : {'akash': [10], 'gaurav': [12], 'anand': [14], \n",
    "          'ashish': [30], 'akhil': [25], 'suraj': [20]}"
   ]
  },
  {
   "cell_type": "code",
   "execution_count": 77,
   "id": "26bca9ee",
   "metadata": {},
   "outputs": [
    {
     "name": "stdout",
     "output_type": "stream",
     "text": [
      "{'akash': 10, 'gaurav': 12, 'anand': 14, 'suraj': 20, 'akhil': 25, 'ashish': 30}\n"
     ]
    }
   ],
   "source": [
    "tups = [(\"akash\", 10), (\"gaurav\", 12), (\"anand\", 14), \n",
    "    (\"suraj\", 20), (\"akhil\", 25), (\"ashish\", 30)]\n",
    "\n",
    "dicto = dict(tups)\n",
    "print(dicto)"
   ]
  },
  {
   "cell_type": "code",
   "execution_count": 78,
   "id": "d7e97db7",
   "metadata": {},
   "outputs": [
    {
     "name": "stdout",
     "output_type": "stream",
     "text": [
      "{'akash': 10, 'gaurav': 12, 'anand': 14, 'suraj': 20, 'akhil': 25, 'ashish': 30}\n"
     ]
    }
   ],
   "source": [
    "tups = [(\"akash\", 10), (\"gaurav\", 12), (\"anand\", 14), \n",
    "    (\"suraj\", 20), (\"akhil\", 25), (\"ashish\", 30)]\n",
    "\n",
    "disco = {}\n",
    "\n",
    "for key, value in tups:\n",
    "    disco.setdefault(key, value)\n",
    "    \n",
    "    \n",
    "print(disco)"
   ]
  },
  {
   "cell_type": "code",
   "execution_count": 75,
   "id": "483c6ccd",
   "metadata": {},
   "outputs": [
    {
     "name": "stdout",
     "output_type": "stream",
     "text": [
      "{'akash': 10, 'gaurav': 12, 'anand': 14, 'suraj': 20, 'akhil': 25, 'ashish': 30}\n"
     ]
    }
   ],
   "source": [
    "def Convert(tup, di):\n",
    "    di = dict(tup)\n",
    "    return di\n",
    "\n",
    "tups = [(\"akash\", 10), (\"gaurav\", 12), (\"anand\", 14), \n",
    "    (\"suraj\", 20), (\"akhil\", 25), (\"ashish\", 30)]\n",
    "dictionary = {}\n",
    "print(Convert(tups, dictionary))"
   ]
  },
  {
   "cell_type": "markdown",
   "id": "6bdc783c",
   "metadata": {},
   "source": [
    "### Python counter and dictionary intersection example (Make a string using deletion and rearrangement)"
   ]
  },
  {
   "cell_type": "markdown",
   "id": "082fe748",
   "metadata": {},
   "source": [
    "Input : s1 = ROHIT\n",
    "\n",
    "      : s2 = nflrfTsfnHfwROefweIof\n",
    "      \n",
    "      \n",
    "Output : Possible\n",
    "(we can make word 'ROHIT' from the second string so the output is possible)\n"
   ]
  },
  {
   "cell_type": "code",
   "execution_count": 98,
   "id": "0b130108",
   "metadata": {},
   "outputs": [
    {
     "name": "stdout",
     "output_type": "stream",
     "text": [
      "impossible\n",
      "None\n"
     ]
    }
   ],
   "source": [
    "def possible(str1, str2):\n",
    "        string_split1 = list(str1)\n",
    "        string_split2 = list(str2)\n",
    "        \n",
    "        for i in range(0, len(string_split1)):\n",
    "            if i not in string_split2:\n",
    "                \n",
    "                print(\"impossible\")\n",
    "                return\n",
    "        print(\"possible\")\n",
    "s1 = 'ROHIT'\n",
    "s2 = 'nflrfTsfnHfwROefweIof'\n",
    "\n",
    "print(possible(s1, s2))"
   ]
  },
  {
   "cell_type": "code",
   "execution_count": 96,
   "id": "29514b8c",
   "metadata": {},
   "outputs": [
    {
     "name": "stdout",
     "output_type": "stream",
     "text": [
      "possible\n",
      "possible\n",
      "possible\n",
      "possible\n",
      "possible\n"
     ]
    }
   ],
   "source": [
    "def possible(str1, str2):\n",
    "    string_split1 = list(str1)\n",
    "    string_split2 = list(str2)\n",
    "    \n",
    "    for i in range(0, len(string_split1)):\n",
    "        if string_split1[i] in string_split2:\n",
    "            print(\"possible\")\n",
    "        else:\n",
    "            print(\"impossible\")\n",
    "\n",
    "s1 = 'ROHIT'\n",
    "s2 = 'nflrfTsfnHfwROefweIof'\n",
    "\n",
    "possible(s1, s2)\n"
   ]
  },
  {
   "cell_type": "code",
   "execution_count": 97,
   "id": "b2bacb33",
   "metadata": {},
   "outputs": [
    {
     "name": "stdout",
     "output_type": "stream",
     "text": [
      "possible\n"
     ]
    }
   ],
   "source": [
    "def possible(str1, str2):\n",
    "    string_split1 = list(str1)\n",
    "    string_split2 = list(str2)\n",
    "    \n",
    "    for char in string_split1:\n",
    "        if char not in string_split2:\n",
    "            print(\"impossible\")\n",
    "            return  # Exit the function if any character is not found\n",
    "    \n",
    "    print(\"possible\")\n",
    "\n",
    "s1 = 'ROHIT'\n",
    "s2 = 'nflrfTsfnHfwROefweIof'\n",
    "\n",
    "possible(s1, s2)\n"
   ]
  },
  {
   "cell_type": "code",
   "execution_count": 99,
   "id": "c2faef4b",
   "metadata": {},
   "outputs": [
    {
     "name": "stdout",
     "output_type": "stream",
     "text": [
      "possible\n"
     ]
    }
   ],
   "source": [
    "def possible(str1, str2):\n",
    "    string_split1 = list(str1)\n",
    "    string_split2 = list(str2)\n",
    "    \n",
    "    for char in string_split1:\n",
    "        if char not in string_split2:\n",
    "            print(\"impossible\")\n",
    "            return  # Exit the function if any character is not found\n",
    "    \n",
    "    print(\"possible\")\n",
    "\n",
    "s1 = 'ROHIT'\n",
    "s2 = 'nflrfTsfnHfwROefweIof'\n",
    "\n",
    "possible(s1, s2)\n"
   ]
  },
  {
   "cell_type": "markdown",
   "id": "6cfde447",
   "metadata": {},
   "source": [
    "### Python dictionary, set and counter to check if frequencies can become same"
   ]
  },
  {
   "cell_type": "markdown",
   "id": "56d42035",
   "metadata": {},
   "source": [
    "Input  : str = “xyyz”\n",
    "Output : Yes\n",
    "We can remove character ’y’ from above \n",
    "string to make the frequency of each \n",
    "character same. \n",
    "\n",
    "Input : str = “xyyzz” \n",
    "Output : Yes\n",
    "We can remove character ‘x’ from above \n",
    "string to make the frequency of each \n",
    "character same.\n",
    "\n",
    "Input : str = “xxxxyyzz” \n",
    "Output : No\n",
    "It is not possible to make frequency of \n",
    "each character same just by removing at \n",
    "most one character from above string."
   ]
  },
  {
   "cell_type": "code",
   "execution_count": 114,
   "id": "60371531",
   "metadata": {},
   "outputs": [
    {
     "name": "stdout",
     "output_type": "stream",
     "text": [
      "yes\n",
      "None\n"
     ]
    }
   ],
   "source": [
    "from collections import Counter\n",
    "\n",
    "def samefreq(input):\n",
    "    \n",
    "    dicto = Counter(input)\n",
    "    \n",
    "    same = list(set(dicto.values()))\n",
    "    \n",
    "    if len(same)>2: \n",
    "        print('No')\n",
    "            \n",
    "    elif len(same)== 2 and same[1]- same[0]>1:\n",
    "        print(\"no\")\n",
    "            \n",
    "    else:\n",
    "        print(\"yes\")\n",
    "         \n",
    "    \n",
    "if __name__ == \"__main__\": \n",
    "    input = 'xxyyzz'\n",
    "    print(samefreq(input))"
   ]
  },
  {
   "cell_type": "markdown",
   "id": "e8b02264",
   "metadata": {},
   "source": [
    "### Possible Words using given characters in Python\n"
   ]
  },
  {
   "cell_type": "code",
   "execution_count": 119,
   "id": "a7b43724",
   "metadata": {},
   "outputs": [
    {
     "name": "stdout",
     "output_type": "stream",
     "text": [
      "me\n",
      "goal\n"
     ]
    }
   ],
   "source": [
    " \n",
    "def charCount(word):\n",
    "    dict = {}\n",
    "    for i in word:\n",
    "        dict[i] = dict.get(i, 0) + 1\n",
    "    return dict\n",
    "\n",
    "\n",
    "\n",
    "\n",
    "if __name__ == \"__main__\":\n",
    "    input = ['goo', 'bat', 'me', 'eat', 'goal', 'boy', 'run']\n",
    "    charSet = ['e', 'o', 'b', 'a', 'm', 'g', 'l']\n",
    "    possible_words(input, charSet)"
   ]
  },
  {
   "cell_type": "code",
   "execution_count": 120,
   "id": "6689cd1a",
   "metadata": {},
   "outputs": [
    {
     "name": "stdout",
     "output_type": "stream",
     "text": [
      "goo\n",
      "me\n",
      "goal\n"
     ]
    }
   ],
   "source": [
    "# better version of above program \n",
    "\n",
    "def can_form_word(word, char_set):\n",
    "    return set(word).issubset(set(char_set))\n",
    "\n",
    "def possible_words(word_list, char_set):\n",
    "    for word in word_list:\n",
    "        if can_form_word(word, char_set):\n",
    "            print(word)\n",
    "\n",
    "\n",
    "if __name__ == \"__main__\":\n",
    "    word_list = ['goo', 'bat', 'me', 'eat', 'goal', 'boy', 'run']\n",
    "    char_set = {'e', 'o', 'b', 'a', 'm', 'g', 'l'}\n",
    "    possible_words(word_list, char_set)"
   ]
  },
  {
   "cell_type": "markdown",
   "id": "ecb9c79a",
   "metadata": {},
   "source": [
    "### Python – Keys associated with Values in Dictionary\n"
   ]
  },
  {
   "cell_type": "markdown",
   "id": "5a22ce17",
   "metadata": {},
   "source": [
    "Input : test_dict = {‘abc’ : [10, 30], ‘bcd’ : [30, 40, 10]}\n",
    "    \n",
    "Output : {10: [‘abc’, ‘bcd’], 30: [‘abc’, ‘bcd’], 40: [‘bcd’]}"
   ]
  },
  {
   "cell_type": "code",
   "execution_count": 124,
   "id": "1d2d8134",
   "metadata": {},
   "outputs": [
    {
     "name": "stdout",
     "output_type": "stream",
     "text": [
      "original dictionary is: {'rar': [1, 2, 3], 'is': [1, 4], 'good': [4, 2]}\n",
      "the result of the problem is: {1: ['rar', 'is'], 2: ['rar', 'good'], 3: ['rar'], 4: ['is', 'good']}\n"
     ]
    }
   ],
   "source": [
    "test_dict = {'rar' : [1, 2, 3], 'is' : [1, 4], 'good' : [4, 2]} \n",
    "\n",
    "\n",
    "print(\"original dictionary is:\", test_dict)\n",
    "\n",
    "\n",
    "result = {}\n",
    "\n",
    "for key, value in test_dict.items():\n",
    "    for ele in value:\n",
    "        result.setdefault(ele, []).append(key)\n",
    "        \n",
    "print(\"the result of the problem is:\",result)"
   ]
  },
  {
   "cell_type": "code",
   "execution_count": null,
   "id": "4b4a25c1",
   "metadata": {},
   "outputs": [],
   "source": []
  },
  {
   "cell_type": "code",
   "execution_count": null,
   "id": "90b351dc",
   "metadata": {},
   "outputs": [],
   "source": []
  },
  {
   "cell_type": "code",
   "execution_count": null,
   "id": "7d99828c",
   "metadata": {},
   "outputs": [],
   "source": []
  },
  {
   "cell_type": "code",
   "execution_count": null,
   "id": "4196657a",
   "metadata": {},
   "outputs": [],
   "source": []
  },
  {
   "cell_type": "code",
   "execution_count": null,
   "id": "3406d3a0",
   "metadata": {},
   "outputs": [],
   "source": []
  },
  {
   "cell_type": "code",
   "execution_count": null,
   "id": "a5467c45",
   "metadata": {},
   "outputs": [],
   "source": []
  },
  {
   "cell_type": "code",
   "execution_count": null,
   "id": "0d5821b9",
   "metadata": {},
   "outputs": [],
   "source": []
  },
  {
   "cell_type": "code",
   "execution_count": null,
   "id": "b6e5d0cc",
   "metadata": {},
   "outputs": [],
   "source": []
  },
  {
   "cell_type": "code",
   "execution_count": null,
   "id": "44fdb981",
   "metadata": {},
   "outputs": [],
   "source": []
  },
  {
   "cell_type": "code",
   "execution_count": null,
   "id": "5bf7d132",
   "metadata": {},
   "outputs": [],
   "source": []
  },
  {
   "cell_type": "code",
   "execution_count": null,
   "id": "a55340f9",
   "metadata": {},
   "outputs": [],
   "source": []
  },
  {
   "cell_type": "code",
   "execution_count": null,
   "id": "97f15d08",
   "metadata": {},
   "outputs": [],
   "source": []
  },
  {
   "cell_type": "code",
   "execution_count": null,
   "id": "9fa27245",
   "metadata": {},
   "outputs": [],
   "source": []
  },
  {
   "cell_type": "code",
   "execution_count": null,
   "id": "fa533407",
   "metadata": {},
   "outputs": [],
   "source": []
  },
  {
   "cell_type": "code",
   "execution_count": null,
   "id": "4415a002",
   "metadata": {},
   "outputs": [],
   "source": []
  },
  {
   "cell_type": "code",
   "execution_count": null,
   "id": "f5b88935",
   "metadata": {},
   "outputs": [],
   "source": []
  },
  {
   "cell_type": "code",
   "execution_count": null,
   "id": "656ba962",
   "metadata": {},
   "outputs": [],
   "source": []
  },
  {
   "cell_type": "code",
   "execution_count": null,
   "id": "09dace8a",
   "metadata": {},
   "outputs": [],
   "source": []
  },
  {
   "cell_type": "code",
   "execution_count": null,
   "id": "441e40f5",
   "metadata": {},
   "outputs": [],
   "source": []
  },
  {
   "cell_type": "code",
   "execution_count": null,
   "id": "d9fad937",
   "metadata": {},
   "outputs": [],
   "source": []
  }
 ],
 "metadata": {
  "kernelspec": {
   "display_name": "Python 3 (ipykernel)",
   "language": "python",
   "name": "python3"
  },
  "language_info": {
   "codemirror_mode": {
    "name": "ipython",
    "version": 3
   },
   "file_extension": ".py",
   "mimetype": "text/x-python",
   "name": "python",
   "nbconvert_exporter": "python",
   "pygments_lexer": "ipython3",
   "version": "3.10.9"
  }
 },
 "nbformat": 4,
 "nbformat_minor": 5
}
